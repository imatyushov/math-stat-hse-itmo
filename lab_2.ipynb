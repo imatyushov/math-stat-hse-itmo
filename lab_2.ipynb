{
  "nbformat": 4,
  "nbformat_minor": 0,
  "metadata": {
    "colab": {
      "provenance": [],
      "authorship_tag": "ABX9TyMaBiPCyiUshlXnXR8Ihmcl",
      "include_colab_link": true
    },
    "kernelspec": {
      "name": "python3",
      "display_name": "Python 3"
    },
    "language_info": {
      "name": "python"
    }
  },
  "cells": [
    {
      "cell_type": "markdown",
      "metadata": {
        "id": "view-in-github",
        "colab_type": "text"
      },
      "source": [
        "<a href=\"https://colab.research.google.com/github/imatyushov/math-stat-hse-itmo/blob/main/lab_2.ipynb\" target=\"_parent\"><img src=\"https://colab.research.google.com/assets/colab-badge.svg\" alt=\"Open In Colab\"/></a>"
      ]
    },
    {
      "cell_type": "code",
      "source": [
        "import pandas as pd;\n",
        "import numpy as np;\n",
        "from matplotlib import pyplot as plt;\n",
        "import random;\n",
        "import math;\n",
        "from scipy.stats import uniform;"
      ],
      "metadata": {
        "id": "EDdbBgsBx2qG"
      },
      "execution_count": 8,
      "outputs": []
    },
    {
      "cell_type": "code",
      "execution_count": 9,
      "metadata": {
        "id": "l32qNNEUw0xs"
      },
      "outputs": [],
      "source": [
        "def create_selection_function(sample_selection):\n",
        "  sorted_sample = np.sort(sample_selection) #sort\n",
        "  sample_size = len(sample_selection) #объем выборки\n",
        "  y = np.arange(1, sample_size + 1) / sample_size\n",
        "  print(f'Sample size: { sample_size }')\n",
        "  return sorted_sample, y"
      ]
    },
    {
      "cell_type": "markdown",
      "source": [
        "## 1) Построить оценки выборочных квантилей и оценить критерий достаточности объема выборки"
      ],
      "metadata": {
        "id": "i4-1P7v6w6u8"
      }
    },
    {
      "cell_type": "markdown",
      "source": [
        "построить оценки выборочных квантилей и изучить критерии достаточности размера выборки. Построить гистограмму и возвратить заданную квантиль."
      ],
      "metadata": {
        "id": "C2wdKbvRw8EV"
      }
    },
    {
      "cell_type": "markdown",
      "source": [
        "### Quantile *ECDF*"
      ],
      "metadata": {
        "id": "bZaKqUW5xCgp"
      }
    },
    {
      "cell_type": "code",
      "source": [
        "def compute_quantile(sample_selection, grade):\n",
        "  selection_size = len(sample_selection)\n",
        "  sufficiency = True if selection_size >= 1 / grade else False\n",
        "  # quantile = sample_selection[floor(selection_size * grade)]\n",
        "  quantile = np.quantile(sample_selection, grade)\n",
        "  return sufficiency, quantile"
      ],
      "metadata": {
        "id": "e9W-EIfiw7OY"
      },
      "execution_count": 10,
      "outputs": []
    },
    {
      "cell_type": "code",
      "source": [
        "sample_size = 100;\n",
        "sample_selection_new = np.random.uniform(0, 1, sample_size);\n",
        "\n",
        "grade = 0.9\n",
        "quantile = compute_quantile(sample_selection_new, grade)\n",
        "print(quantile)"
      ],
      "metadata": {
        "colab": {
          "base_uri": "https://localhost:8080/"
        },
        "id": "MrsooO1LxFVn",
        "outputId": "99651d0f-e724-4788-e77a-8491871f50bc"
      },
      "execution_count": 11,
      "outputs": [
        {
          "output_type": "stream",
          "name": "stdout",
          "text": [
            "(True, 0.9132304084350251)\n"
          ]
        }
      ]
    },
    {
      "cell_type": "code",
      "source": [
        "x, y = create_selection_function(sample_selection_new)\n",
        "\n",
        "plt.step(x, y, where='post')\n",
        "plt.xlabel('Значение x')\n",
        "plt.ylabel('Выборочная ф-ция распределения Fr(x)')\n",
        "plt.title('Selective distribution function')\n",
        "plt.axvline(quantile[1], ls='--', color='red')\n",
        "plt.grid = True\n",
        "plt.show()"
      ],
      "metadata": {
        "colab": {
          "base_uri": "https://localhost:8080/",
          "height": 489
        },
        "id": "QMRklS8SxITk",
        "outputId": "9ab86667-9069-47f5-8c30-26fc31657762"
      },
      "execution_count": 12,
      "outputs": [
        {
          "output_type": "stream",
          "name": "stdout",
          "text": [
            "Sample size: 100\n"
          ]
        },
        {
          "output_type": "display_data",
          "data": {
            "text/plain": [
              "<Figure size 640x480 with 1 Axes>"
            ],
            "image/png": "[encoded data removed]"
          },
          "metadata": {}
        }
      ]
    },
    {
      "cell_type": "markdown",
      "source": [
        "### Quantile *Histogram*"
      ],
      "metadata": {
        "id": "QxNUkwF4yAUs"
      }
    },
    {
      "cell_type": "code",
      "source": [
        "sample_size = 100;\n",
        "sample_selection_new = np.random.uniform(0, 1, sample_size);\n",
        "sample_selection_sorted = np.sort(sample_selection_new)"
      ],
      "metadata": {
        "id": "_5OxIQ2ExJFx"
      },
      "execution_count": 14,
      "outputs": []
    },
    {
      "cell_type": "code",
      "source": [
        "def convert_selection_to_histagram(sample_selection, grade):\n",
        "  selection_size = len(sample_selection)\n",
        "  column_size = 15\n",
        "  column_nums = selection_size // column_size\n",
        "  column_width = (sample_selection[-1] - sample_selection[0]) / column_nums\n",
        "\n",
        "  quantile = np.quantile(sample_selection, grade)\n",
        "  print(quantile)\n",
        "\n",
        "  choose_column = quantile // column_width + 1\n",
        "  print('Выбранная колонка', choose_column)\n",
        "  choose_column_start = column_width * (choose_column - 1)\n",
        "  print('Старт колонки', choose_column_start)\n",
        "  choose_column_end = column_width * choose_column\n",
        "  print('Конец колонки', choose_column_end)\n",
        "\n",
        "  plt.hist(sample_selection_new, column_nums, density=True, rwidth=0.9)\n",
        "  plt.axvline(quantile, ls='--', color='red')\n",
        "  plt.show()"
      ],
      "metadata": {
        "id": "hBOM9oP0yAyY"
      },
      "execution_count": 15,
      "outputs": []
    },
    {
      "cell_type": "code",
      "source": [
        "grade = 0.9\n",
        "convert_selection_to_histagram(sample_selection_sorted, grade)"
      ],
      "metadata": {
        "colab": {
          "base_uri": "https://localhost:8080/",
          "height": 499
        },
        "id": "Hg7hsCZKyEeR",
        "outputId": "2fe40b7a-96d8-4ef6-8b60-8b552f15d4a9"
      },
      "execution_count": 16,
      "outputs": [
        {
          "output_type": "stream",
          "name": "stdout",
          "text": [
            "0.911521062328803\n",
            "Выбранная колонка 6.0\n",
            "Старт колонки 0.8293387599443923\n",
            "Конец колонки 0.9952065119332707\n"
          ]
        },
        {
          "output_type": "display_data",
          "data": {
            "text/plain": [
              "<Figure size 640x480 with 1 Axes>"
            ],
            "image/png": "[encoded data removed]"
          },
          "metadata": {}
        }
      ]
    },
    {
      "cell_type": "code",
      "source": [
        "from math import floor\n",
        "import bisect\n",
        "from random import uniform\n",
        "import matplotlib.pyplot as plt\n",
        "\n",
        "size = 100\n",
        "sample_selection_bisect = []\n",
        "for i in range(size):\n",
        "  bisect.insort_right(sample_selection_bisect, uniform(0, 1))"
      ],
      "metadata": {
        "id": "WnSvw7lUyF4f"
      },
      "execution_count": 17,
      "outputs": []
    },
    {
      "cell_type": "code",
      "source": [
        "def convert_selection_to_histagram(sample_selection, grade):\n",
        "  selection_size = len(sample_selection)\n",
        "  column_size = 15\n",
        "  column_nums = selection_size // column_size\n",
        "  column_width = (sample_selection[-1] - sample_selection[0]) / column_nums\n",
        "\n",
        "  quantile_index = floor(selection_size * grade)\n",
        "  quantile = sample_selection[quantile_index]\n",
        "\n",
        "\n",
        "  choose_column = quantile // column_width + 1\n",
        "  choose_column_start = column_width * (choose_column - 1)\n",
        "  choose_column_end = column_width * choose_column\n",
        "\n",
        "  for el in sample_selection:\n",
        "    if el > choose_column_start:\n",
        "      start_index = sample_selection.index(el)\n",
        "      break\n",
        "\n",
        "  for el in sample_selection:\n",
        "    if el > choose_column_end:\n",
        "      end_index = sample_selection.index(el) - 1\n",
        "      break\n",
        "\n",
        "  num_elements_in_choose_column = end_index - start_index\n",
        "  quantile_index_in_choose_column = sample_selection[start_index:end_index]\n",
        "\n",
        "  my_quantile = (choose_column + quantile / num_elements_in_choose_column) * column_width\n",
        "\n",
        "  plt.hist(sample_selection_new, column_nums, density=True, rwidth=0.9)\n",
        "  plt.axvline(quantile, ls='--', color='red')\n",
        "  plt.show()"
      ],
      "metadata": {
        "id": "yQfX4ij-yIOo"
      },
      "execution_count": 18,
      "outputs": []
    },
    {
      "cell_type": "code",
      "source": [
        "grade = 0.9\n",
        "convert_selection_to_histagram(sample_selection_bisect, grade)"
      ],
      "metadata": {
        "colab": {
          "base_uri": "https://localhost:8080/",
          "height": 430
        },
        "id": "BTyozm6QyJYK",
        "outputId": "fa7a4fe8-1595-46ba-e212-9f5a4f94468c"
      },
      "execution_count": 19,
      "outputs": [
        {
          "output_type": "display_data",
          "data": {
            "text/plain": [
              "<Figure size 640x480 with 1 Axes>"
            ],
            "image/png": "[encoded data removed]"
          },
          "metadata": {}
        }
      ]
    }
  ]
}